{
 "cells": [
  {
   "cell_type": "code",
   "execution_count": 7,
   "metadata": {},
   "outputs": [
    {
     "name": "stderr",
     "output_type": "stream",
     "text": [
      "c:\\Users\\alexa\\miniconda3\\envs\\viz_project\\Lib\\site-packages\\openpyxl\\styles\\stylesheet.py:237: UserWarning: Workbook contains no default style, apply openpyxl's default\n",
      "  warn(\"Workbook contains no default style, apply openpyxl's default\")\n",
      "c:\\Users\\alexa\\miniconda3\\envs\\viz_project\\Lib\\site-packages\\openpyxl\\styles\\stylesheet.py:237: UserWarning: Workbook contains no default style, apply openpyxl's default\n",
      "  warn(\"Workbook contains no default style, apply openpyxl's default\")\n"
     ]
    }
   ],
   "source": [
    "import pandas as pd\n",
    "df_kom = pd.read_excel('kommune_udvikling.xlsx')\n",
    "df_gender = pd.read_excel('køn_udvikling.xlsx')"
   ]
  },
  {
   "cell_type": "code",
   "execution_count": 8,
   "metadata": {},
   "outputs": [],
   "source": [
    "df_kom = df_kom[df_kom.År != 2023]\n"
   ]
  },
  {
   "cell_type": "code",
   "execution_count": 9,
   "metadata": {},
   "outputs": [],
   "source": [
    "df_gender['Alder'] = df_gender['Alder'].str.replace('år', '').str.strip()\n",
    "\n",
    "#delete column 'Andel der har tinnitus'\n",
    "df_kom = df_kom.drop('Andel der har tinnitus', axis=1)\n",
    "\n",
    "#change name of column 'Antal svarpersoner' to 'Andel_tinitus'\n",
    "df_kom = df_kom.rename(columns={'Antal svarpersoner': 'Andel_tinitus'})\n",
    "df_gender = df_gender.rename(columns={'Andel der har tinnitus': 'Andel_tinitus'})"
   ]
  },
  {
   "cell_type": "code",
   "execution_count": 10,
   "metadata": {},
   "outputs": [],
   "source": [
    "df_kom['Andel_tinitus'] = df_kom['Andel_tinitus'] * 100\n",
    "df_gender['Andel_tinitus'] = df_gender['Andel_tinitus'] * 100\n",
    "\n",
    "\n"
   ]
  },
  {
   "cell_type": "code",
   "execution_count": 11,
   "metadata": {},
   "outputs": [],
   "source": [
    "df_kom['Andel_tinitus'] = pd.to_numeric(df_kom['Andel_tinitus'])\n",
    "df_gender['Andel_tinitus'] = pd.to_numeric(df_gender['Andel_tinitus'])\n",
    "\n",
    "df_kom['År'] = pd.to_numeric(df_kom['År'])\n",
    "df_gender['År'] = pd.to_numeric(df_gender['År'])"
   ]
  },
  {
   "cell_type": "code",
   "execution_count": 71,
   "metadata": {},
   "outputs": [],
   "source": [
    "\n",
    "\n",
    "years = [2010, 2013, 2017, 2021, 2023]\n",
    "rows_to_add = []\n",
    "\n",
    "for year in years:\n",
    "    avg_tinitus = df_kom[df_kom['År'] == year]['Andel_tinitus'].mean()\n",
    "    rows_to_add.append({'Kommune': 'Total', 'År': f'{year} total', 'Andel_tinitus': avg_tinitus})\n",
    "\n",
    "# Create a DataFrame from the new rows and concatenate with the original DataFrame\n",
    "df_kom = pd.concat([df_kom, pd.DataFrame(rows_to_add)], ignore_index=True)"
   ]
  },
  {
   "cell_type": "code",
   "execution_count": 12,
   "metadata": {},
   "outputs": [],
   "source": [
    "kommune_to_region = {\n",
    "    # Region Hovedstaden\n",
    "    'Albertslund': 'Region Hovedstaden',\n",
    "    'Allerød': 'Region Hovedstaden',\n",
    "    'Ballerup': 'Region Hovedstaden',\n",
    "    'Bornholm': 'Region Hovedstaden',\n",
    "    'Brøndby': 'Region Hovedstaden',\n",
    "    'Dragør': 'Region Hovedstaden',\n",
    "    'Egedal': 'Region Hovedstaden',\n",
    "    'Fredensborg': 'Region Hovedstaden',\n",
    "    'Frederiksberg': 'Region Hovedstaden',\n",
    "    'Frederikssund': 'Region Hovedstaden',\n",
    "    'Frederiksværk-Hundested': 'Region Hovedstaden',\n",
    "    'Furesø': 'Region Hovedstaden',\n",
    "    'Gentofte': 'Region Hovedstaden',\n",
    "    'Gladsaxe': 'Region Hovedstaden',\n",
    "    'Glostrup': 'Region Hovedstaden',\n",
    "    'Gribskov': 'Region Hovedstaden',\n",
    "    'Helsingør': 'Region Hovedstaden',\n",
    "    'Herlev': 'Region Hovedstaden',\n",
    "    'Hillerød': 'Region Hovedstaden',\n",
    "    'Hvidovre': 'Region Hovedstaden',\n",
    "    'Høje-Taastrup': 'Region Hovedstaden',\n",
    "    'Hørsholm': 'Region Hovedstaden',\n",
    "    'Ishøj': 'Region Hovedstaden',\n",
    "    'Københavns': 'Region Hovedstaden',\n",
    "    'Lyngby-Taarbæk': 'Region Hovedstaden',\n",
    "    'Rudersdal': 'Region Hovedstaden',\n",
    "    'Rødovre': 'Region Hovedstaden',\n",
    "    'Tårnby': 'Region Hovedstaden',\n",
    "    'Vallensbæk': 'Region Hovedstaden',\n",
    "    \n",
    "    # Region Sjælland\n",
    "    'Faxe': 'Region Sjælland',\n",
    "    'Greve': 'Region Sjælland',\n",
    "    'Guldborgsund': 'Region Sjælland',\n",
    "    'Holbæk': 'Region Sjælland',\n",
    "    'Kalundborg': 'Region Sjælland',\n",
    "    'Køge': 'Region Sjælland',\n",
    "    'Lejre': 'Region Sjælland',\n",
    "    'Lolland': 'Region Sjælland',\n",
    "    'Næstved': 'Region Sjælland',\n",
    "    'Odsherred': 'Region Sjælland',\n",
    "    'Ringsted': 'Region Sjælland',\n",
    "    'Roskilde': 'Region Sjælland',\n",
    "    'Slagelse': 'Region Sjælland',\n",
    "    'Solrød': 'Region Sjælland',\n",
    "    'Sorø': 'Region Sjælland',\n",
    "    'Stevns': 'Region Sjælland',\n",
    "    'Vordingborg': 'Region Sjælland',\n",
    "    \n",
    "    # Region Syddanmark\n",
    "    'Assens': 'Region Syddanmark',\n",
    "    'Billund': 'Region Syddanmark',\n",
    "    'Nordfyns': 'Region Syddanmark',\n",
    "    'Esbjerg': 'Region Syddanmark',\n",
    "    'Fanø': 'Region Syddanmark',\n",
    "    'Fredericia': 'Region Syddanmark',\n",
    "    'Faaborg-Midtfyn': 'Region Syddanmark',\n",
    "    'Haderslev': 'Region Syddanmark',\n",
    "    'Kerteminde': 'Region Syddanmark',\n",
    "    'Kolding': 'Region Syddanmark',\n",
    "    'Langeland': 'Region Syddanmark',\n",
    "    'Middelfart': 'Region Syddanmark',\n",
    "    'Nyborg': 'Region Syddanmark',\n",
    "    'Odense': 'Region Syddanmark',\n",
    "    'Svendborg': 'Region Syddanmark',\n",
    "    'Sønderborg': 'Region Syddanmark',\n",
    "    'Tønder': 'Region Syddanmark',\n",
    "    'Varde': 'Region Syddanmark',\n",
    "    'Vejen': 'Region Syddanmark',\n",
    "    'Vejle': 'Region Syddanmark',\n",
    "    'Ærø': 'Region Syddanmark',\n",
    "    'Aabenraa': 'Region Syddanmark',\n",
    "    \n",
    "    # Region Midtjylland\n",
    "    'Favrskov': 'Region Midtjylland',\n",
    "    'Hedensted': 'Region Midtjylland',\n",
    "    'Herning': 'Region Midtjylland',\n",
    "    'Holstebro': 'Region Midtjylland',\n",
    "    'Horsens': 'Region Midtjylland',\n",
    "    'Ikast-Brande': 'Region Midtjylland',\n",
    "    'Lemvig': 'Region Midtjylland',\n",
    "    'Norddjurs': 'Region Midtjylland',\n",
    "    'Odder': 'Region Midtjylland',\n",
    "    'Randers': 'Region Midtjylland',\n",
    "    'Ringkøbing-Skjern': 'Region Midtjylland',\n",
    "    'Samsø': 'Region Midtjylland',\n",
    "    'Silkeborg': 'Region Midtjylland',\n",
    "    'Skanderborg': 'Region Midtjylland',\n",
    "    'Skive': 'Region Midtjylland',\n",
    "    'Struer': 'Region Midtjylland',\n",
    "    'Syddjurs': 'Region Midtjylland',\n",
    "    'Viborg': 'Region Midtjylland',\n",
    "    'Aarhus': 'Region Midtjylland',\n",
    "    \n",
    "    # Region Nordjylland\n",
    "    'Brønderslev': 'Region Nordjylland',\n",
    "    'Frederikshavn': 'Region Nordjylland',\n",
    "    'Hjørring': 'Region Nordjylland',\n",
    "    'Jammerbugt': 'Region Nordjylland',\n",
    "    'Læsø': 'Region Nordjylland',\n",
    "    'Mariagerfjord': 'Region Nordjylland',\n",
    "    'Morsø': 'Region Nordjylland',\n",
    "    'Rebild': 'Region Nordjylland',\n",
    "    'Thisted': 'Region Nordjylland',\n",
    "    'Vesthimmerland': 'Region Nordjylland',\n",
    "    'Aalborg': 'Region Nordjylland',\n",
    "}\n",
    "\n",
    "# Flatten the dictionary correctly by specifying the list of municipalities for each region\n",
    "\n",
    "# Map Kommune to Region\n",
    "df_kom['Region'] = df_kom['Kommune'].map(kommune_to_region)\n"
   ]
  },
  {
   "cell_type": "code",
   "execution_count": 13,
   "metadata": {},
   "outputs": [
    {
     "name": "stdout",
     "output_type": "stream",
     "text": [
      "        Kommune    År  Andel_tinitus              Region\n",
      "1   Albertslund  2010       9.346168  Region Hovedstaden\n",
      "2   Albertslund  2013      12.371383  Region Hovedstaden\n",
      "3   Albertslund  2017      12.387622  Region Hovedstaden\n",
      "4   Albertslund  2021      16.460045  Region Hovedstaden\n",
      "5       Allerød  2010       9.014626  Region Hovedstaden\n",
      "6       Allerød  2013      12.817862  Region Hovedstaden\n",
      "7       Allerød  2017      11.916792  Region Hovedstaden\n",
      "8       Allerød  2021      16.136677  Region Hovedstaden\n",
      "9        Assens  2010      11.878884   Region Syddanmark\n",
      "10       Assens  2013      13.522210   Region Syddanmark\n",
      "11       Assens  2017      14.142900   Region Syddanmark\n",
      "12       Assens  2021      20.240463   Region Syddanmark\n",
      "13     Ballerup  2010      10.374744  Region Hovedstaden\n",
      "14     Ballerup  2013      13.491770  Region Hovedstaden\n",
      "15     Ballerup  2017      13.349772  Region Hovedstaden\n",
      "16     Ballerup  2021      17.366482  Region Hovedstaden\n",
      "17      Billund  2010      12.385823   Region Syddanmark\n",
      "18      Billund  2013      13.618264   Region Syddanmark\n",
      "19      Billund  2017      13.571228   Region Syddanmark\n",
      "20      Billund  2021      17.117616   Region Syddanmark\n"
     ]
    }
   ],
   "source": [
    "print(df_kom.head(20))"
   ]
  },
  {
   "cell_type": "code",
   "execution_count": 94,
   "metadata": {},
   "outputs": [],
   "source": [
    "df_kom.to_csv('df_kom.csv', index=False)\n",
    "df_gender.to_csv('df_gender.csv', index=False)\n"
   ]
  },
  {
   "cell_type": "code",
   "execution_count": null,
   "metadata": {},
   "outputs": [
    {
     "name": "stdout",
     "output_type": "stream",
     "text": [
      "Index(['Køn', 'Alder', 'År', 'Andel der har tinnitus'], dtype='object')\n"
     ]
    },
    {
     "name": "stderr",
     "output_type": "stream",
     "text": [
      "c:\\Users\\alexa\\miniconda3\\envs\\viz_project\\Lib\\site-packages\\openpyxl\\styles\\stylesheet.py:237: UserWarning: Workbook contains no default style, apply openpyxl's default\n",
      "  warn(\"Workbook contains no default style, apply openpyxl's default\")\n",
      "c:\\Users\\alexa\\miniconda3\\envs\\viz_project\\Lib\\site-packages\\openpyxl\\styles\\stylesheet.py:237: UserWarning: Workbook contains no default style, apply openpyxl's default\n",
      "  warn(\"Workbook contains no default style, apply openpyxl's default\")\n",
      "c:\\Users\\alexa\\miniconda3\\envs\\viz_project\\Lib\\site-packages\\openpyxl\\styles\\stylesheet.py:237: UserWarning: Workbook contains no default style, apply openpyxl's default\n",
      "  warn(\"Workbook contains no default style, apply openpyxl's default\")\n",
      "c:\\Users\\alexa\\miniconda3\\envs\\viz_project\\Lib\\site-packages\\openpyxl\\styles\\stylesheet.py:237: UserWarning: Workbook contains no default style, apply openpyxl's default\n",
      "  warn(\"Workbook contains no default style, apply openpyxl's default\")\n"
     ]
    }
   ],
   "source": [
    "hovedstad_data = pd.read_excel('udvikling_hovedstaden.xlsx')\n",
    "midtjylland_data = pd.read_excel('udvikling_midtjylland.xlsx')\n",
    "nordjylland_data = pd.read_excel('udvikling_nordjylland.xlsx')\n",
    "sjælland_data = pd.read_excel('udvikling_sjælland.xlsx')\n",
    "syddanmark_data = pd.read_excel('udvikling_syddanmark.xlsx')\n"
   ]
  },
  {
   "cell_type": "code",
   "execution_count": 31,
   "metadata": {},
   "outputs": [
    {
     "ename": "KeyError",
     "evalue": "'Andel_tinitus'",
     "output_type": "error",
     "traceback": [
      "\u001b[1;31m---------------------------------------------------------------------------\u001b[0m",
      "\u001b[1;31mKeyError\u001b[0m                                  Traceback (most recent call last)",
      "File \u001b[1;32mc:\\Users\\alexa\\miniconda3\\envs\\viz_project\\Lib\\site-packages\\pandas\\core\\indexes\\base.py:3805\u001b[0m, in \u001b[0;36mIndex.get_loc\u001b[1;34m(self, key)\u001b[0m\n\u001b[0;32m   3804\u001b[0m \u001b[38;5;28;01mtry\u001b[39;00m:\n\u001b[1;32m-> 3805\u001b[0m     \u001b[38;5;28;01mreturn\u001b[39;00m \u001b[38;5;28;43mself\u001b[39;49m\u001b[38;5;241;43m.\u001b[39;49m\u001b[43m_engine\u001b[49m\u001b[38;5;241;43m.\u001b[39;49m\u001b[43mget_loc\u001b[49m\u001b[43m(\u001b[49m\u001b[43mcasted_key\u001b[49m\u001b[43m)\u001b[49m\n\u001b[0;32m   3806\u001b[0m \u001b[38;5;28;01mexcept\u001b[39;00m \u001b[38;5;167;01mKeyError\u001b[39;00m \u001b[38;5;28;01mas\u001b[39;00m err:\n",
      "File \u001b[1;32mindex.pyx:167\u001b[0m, in \u001b[0;36mpandas._libs.index.IndexEngine.get_loc\u001b[1;34m()\u001b[0m\n",
      "File \u001b[1;32mindex.pyx:196\u001b[0m, in \u001b[0;36mpandas._libs.index.IndexEngine.get_loc\u001b[1;34m()\u001b[0m\n",
      "File \u001b[1;32mpandas\\\\_libs\\\\hashtable_class_helper.pxi:7081\u001b[0m, in \u001b[0;36mpandas._libs.hashtable.PyObjectHashTable.get_item\u001b[1;34m()\u001b[0m\n",
      "File \u001b[1;32mpandas\\\\_libs\\\\hashtable_class_helper.pxi:7089\u001b[0m, in \u001b[0;36mpandas._libs.hashtable.PyObjectHashTable.get_item\u001b[1;34m()\u001b[0m\n",
      "\u001b[1;31mKeyError\u001b[0m: 'Andel_tinitus'",
      "\nThe above exception was the direct cause of the following exception:\n",
      "\u001b[1;31mKeyError\u001b[0m                                  Traceback (most recent call last)",
      "Cell \u001b[1;32mIn[31], line 17\u001b[0m\n\u001b[0;32m     14\u001b[0m     \u001b[38;5;28;01mreturn\u001b[39;00m df\n\u001b[0;32m     16\u001b[0m \u001b[38;5;66;03m# Apply the function to each dataframe\u001b[39;00m\n\u001b[1;32m---> 17\u001b[0m hovedstad_data \u001b[38;5;241m=\u001b[39m \u001b[43mprocess_dataframe\u001b[49m\u001b[43m(\u001b[49m\u001b[43mhovedstad_data\u001b[49m\u001b[43m)\u001b[49m\n\u001b[0;32m     18\u001b[0m midtjylland_data \u001b[38;5;241m=\u001b[39m process_dataframe(midtjylland_data)\n\u001b[0;32m     19\u001b[0m nordjylland_data \u001b[38;5;241m=\u001b[39m process_dataframe(nordjylland_data)\n",
      "Cell \u001b[1;32mIn[31], line 12\u001b[0m, in \u001b[0;36mprocess_dataframe\u001b[1;34m(df)\u001b[0m\n\u001b[0;32m      9\u001b[0m df \u001b[38;5;241m=\u001b[39m df[\u001b[38;5;124m'\u001b[39m\u001b[38;5;124mÅr\u001b[39m\u001b[38;5;124m'\u001b[39m] \u001b[38;5;241m=\u001b[39m pd\u001b[38;5;241m.\u001b[39mto_numeric(df[\u001b[38;5;124m'\u001b[39m\u001b[38;5;124mÅr\u001b[39m\u001b[38;5;124m'\u001b[39m])\n\u001b[0;32m     11\u001b[0m \u001b[38;5;66;03m# Multiply all entries in 'Andel_tinitus' by 100\u001b[39;00m\n\u001b[1;32m---> 12\u001b[0m df[\u001b[38;5;124m'\u001b[39m\u001b[38;5;124mAndel_tinitus\u001b[39m\u001b[38;5;124m'\u001b[39m] \u001b[38;5;241m=\u001b[39m \u001b[43mdf\u001b[49m\u001b[43m[\u001b[49m\u001b[38;5;124;43m'\u001b[39;49m\u001b[38;5;124;43mAndel_tinitus\u001b[39;49m\u001b[38;5;124;43m'\u001b[39;49m\u001b[43m]\u001b[49m \u001b[38;5;241m*\u001b[39m \u001b[38;5;241m100\u001b[39m\n\u001b[0;32m     14\u001b[0m \u001b[38;5;28;01mreturn\u001b[39;00m df\n",
      "File \u001b[1;32mc:\\Users\\alexa\\miniconda3\\envs\\viz_project\\Lib\\site-packages\\pandas\\core\\series.py:1121\u001b[0m, in \u001b[0;36mSeries.__getitem__\u001b[1;34m(self, key)\u001b[0m\n\u001b[0;32m   1118\u001b[0m     \u001b[38;5;28;01mreturn\u001b[39;00m \u001b[38;5;28mself\u001b[39m\u001b[38;5;241m.\u001b[39m_values[key]\n\u001b[0;32m   1120\u001b[0m \u001b[38;5;28;01melif\u001b[39;00m key_is_scalar:\n\u001b[1;32m-> 1121\u001b[0m     \u001b[38;5;28;01mreturn\u001b[39;00m \u001b[38;5;28;43mself\u001b[39;49m\u001b[38;5;241;43m.\u001b[39;49m\u001b[43m_get_value\u001b[49m\u001b[43m(\u001b[49m\u001b[43mkey\u001b[49m\u001b[43m)\u001b[49m\n\u001b[0;32m   1123\u001b[0m \u001b[38;5;66;03m# Convert generator to list before going through hashable part\u001b[39;00m\n\u001b[0;32m   1124\u001b[0m \u001b[38;5;66;03m# (We will iterate through the generator there to check for slices)\u001b[39;00m\n\u001b[0;32m   1125\u001b[0m \u001b[38;5;28;01mif\u001b[39;00m is_iterator(key):\n",
      "File \u001b[1;32mc:\\Users\\alexa\\miniconda3\\envs\\viz_project\\Lib\\site-packages\\pandas\\core\\series.py:1237\u001b[0m, in \u001b[0;36mSeries._get_value\u001b[1;34m(self, label, takeable)\u001b[0m\n\u001b[0;32m   1234\u001b[0m     \u001b[38;5;28;01mreturn\u001b[39;00m \u001b[38;5;28mself\u001b[39m\u001b[38;5;241m.\u001b[39m_values[label]\n\u001b[0;32m   1236\u001b[0m \u001b[38;5;66;03m# Similar to Index.get_value, but we do not fall back to positional\u001b[39;00m\n\u001b[1;32m-> 1237\u001b[0m loc \u001b[38;5;241m=\u001b[39m \u001b[38;5;28;43mself\u001b[39;49m\u001b[38;5;241;43m.\u001b[39;49m\u001b[43mindex\u001b[49m\u001b[38;5;241;43m.\u001b[39;49m\u001b[43mget_loc\u001b[49m\u001b[43m(\u001b[49m\u001b[43mlabel\u001b[49m\u001b[43m)\u001b[49m\n\u001b[0;32m   1239\u001b[0m \u001b[38;5;28;01mif\u001b[39;00m is_integer(loc):\n\u001b[0;32m   1240\u001b[0m     \u001b[38;5;28;01mreturn\u001b[39;00m \u001b[38;5;28mself\u001b[39m\u001b[38;5;241m.\u001b[39m_values[loc]\n",
      "File \u001b[1;32mc:\\Users\\alexa\\miniconda3\\envs\\viz_project\\Lib\\site-packages\\pandas\\core\\indexes\\base.py:3812\u001b[0m, in \u001b[0;36mIndex.get_loc\u001b[1;34m(self, key)\u001b[0m\n\u001b[0;32m   3807\u001b[0m     \u001b[38;5;28;01mif\u001b[39;00m \u001b[38;5;28misinstance\u001b[39m(casted_key, \u001b[38;5;28mslice\u001b[39m) \u001b[38;5;129;01mor\u001b[39;00m (\n\u001b[0;32m   3808\u001b[0m         \u001b[38;5;28misinstance\u001b[39m(casted_key, abc\u001b[38;5;241m.\u001b[39mIterable)\n\u001b[0;32m   3809\u001b[0m         \u001b[38;5;129;01mand\u001b[39;00m \u001b[38;5;28many\u001b[39m(\u001b[38;5;28misinstance\u001b[39m(x, \u001b[38;5;28mslice\u001b[39m) \u001b[38;5;28;01mfor\u001b[39;00m x \u001b[38;5;129;01min\u001b[39;00m casted_key)\n\u001b[0;32m   3810\u001b[0m     ):\n\u001b[0;32m   3811\u001b[0m         \u001b[38;5;28;01mraise\u001b[39;00m InvalidIndexError(key)\n\u001b[1;32m-> 3812\u001b[0m     \u001b[38;5;28;01mraise\u001b[39;00m \u001b[38;5;167;01mKeyError\u001b[39;00m(key) \u001b[38;5;28;01mfrom\u001b[39;00m \u001b[38;5;21;01merr\u001b[39;00m\n\u001b[0;32m   3813\u001b[0m \u001b[38;5;28;01mexcept\u001b[39;00m \u001b[38;5;167;01mTypeError\u001b[39;00m:\n\u001b[0;32m   3814\u001b[0m     \u001b[38;5;66;03m# If we have a listlike key, _check_indexing_error will raise\u001b[39;00m\n\u001b[0;32m   3815\u001b[0m     \u001b[38;5;66;03m#  InvalidIndexError. Otherwise we fall through and re-raise\u001b[39;00m\n\u001b[0;32m   3816\u001b[0m     \u001b[38;5;66;03m#  the TypeError.\u001b[39;00m\n\u001b[0;32m   3817\u001b[0m     \u001b[38;5;28mself\u001b[39m\u001b[38;5;241m.\u001b[39m_check_indexing_error(key)\n",
      "\u001b[1;31mKeyError\u001b[0m: 'Andel_tinitus'"
     ]
    }
   ],
   "source": [
    "# Define a function to process the dataframes\n",
    "def process_dataframe(df):\n",
    "    # Rename the column\n",
    "    df = df.rename(columns={'Andel der har tinnitus': 'Andel_tinitus'})\n",
    "    \n",
    "    # Filter out rows where År is 2023\n",
    "    df = df[df['År'] != 2023]\n",
    "\n",
    "    df = df['År'] = pd.to_numeric(df['År'])\n",
    "    \n",
    "    # Multiply all entries in 'Andel_tinitus' by 100\n",
    "    df['Andel_tinitus'] = df['Andel_tinitus'] * 100\n",
    "    \n",
    "    return df\n",
    "\n",
    "# Apply the function to each dataframe\n",
    "hovedstad_data = process_dataframe(hovedstad_data)\n",
    "midtjylland_data = process_dataframe(midtjylland_data)\n",
    "nordjylland_data = process_dataframe(nordjylland_data)\n",
    "sjælland_data = process_dataframe(sjælland_data)\n",
    "syddanmark_data = process_dataframe(syddanmark_data)\n"
   ]
  },
  {
   "cell_type": "code",
   "execution_count": 20,
   "metadata": {},
   "outputs": [],
   "source": [
    "hovedstad_data['Region'] = 'Region Hovedstaden'\n",
    "midtjylland_data['Region'] = 'Region Midtjylland'\n",
    "nordjylland_data['Region'] = 'Region Nordjylland'\n",
    "sjælland_data['Region'] = 'Region Sjælland'\n",
    "syddanmark_data['Region'] = 'Region Syddanmark'\n"
   ]
  },
  {
   "cell_type": "code",
   "execution_count": 26,
   "metadata": {},
   "outputs": [],
   "source": [
    "# Combine all dataframes into one\n",
    "combined_data = pd.concat(\n",
    "    [hovedstad_data, midtjylland_data, nordjylland_data, sjælland_data, syddanmark_data],\n",
    "    ignore_index=True\n",
    ")\n",
    "\n",
    "combined_data['År'] = pd.to_numeric(combined_data['År'])\n",
    "\n",
    "combined_data.to_csv('combined_data.csv', index=False)\n"
   ]
  }
 ],
 "metadata": {
  "kernelspec": {
   "display_name": "viz_project",
   "language": "python",
   "name": "python3"
  },
  "language_info": {
   "codemirror_mode": {
    "name": "ipython",
    "version": 3
   },
   "file_extension": ".py",
   "mimetype": "text/x-python",
   "name": "python",
   "nbconvert_exporter": "python",
   "pygments_lexer": "ipython3",
   "version": "3.13.0"
  }
 },
 "nbformat": 4,
 "nbformat_minor": 2
}
